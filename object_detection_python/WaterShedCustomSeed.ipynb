{
 "cells": [
  {
   "cell_type": "code",
   "execution_count": 13,
   "id": "d845f2f3-3849-43d7-9d9d-38a6d7ef5bb6",
   "metadata": {},
   "outputs": [],
   "source": [
    "import cv2\n",
    "import matplotlib.pyplot as plt\n",
    "%matplotlib inline\n",
    "import numpy as np"
   ]
  },
  {
   "cell_type": "code",
   "execution_count": 14,
   "id": "f8674221-0940-4cc3-887a-c8b920fe626d",
   "metadata": {},
   "outputs": [],
   "source": [
    "road = cv2.imread('road_image.jpg')\n",
    "# COPY OF THE ROAD IMAGE\n",
    "road_copy = np.copy(road)"
   ]
  },
  {
   "cell_type": "code",
   "execution_count": 15,
   "id": "c807b9bf-93f1-4712-a22b-a243c32da651",
   "metadata": {},
   "outputs": [
    {
     "data": {
      "text/plain": [
       "(600, 800, 3)"
      ]
     },
     "execution_count": 15,
     "metadata": {},
     "output_type": "execute_result"
    }
   ],
   "source": [
    "#SHAPE OF THE IMAGE\n",
    "road_copy.shape"
   ]
  },
  {
   "cell_type": "code",
   "execution_count": 16,
   "id": "c0dd8390-8158-447e-bebe-ee172342b676",
   "metadata": {},
   "outputs": [
    {
     "data": {
      "text/plain": [
       "(600, 800)"
      ]
     },
     "execution_count": 16,
     "metadata": {},
     "output_type": "execute_result"
    }
   ],
   "source": [
    "#WIDTH, HEIGHT OF THE IMAGE\n",
    "road_copy.shape[:2]"
   ]
  },
  {
   "cell_type": "code",
   "execution_count": 17,
   "id": "34ddda67-5202-494f-8d2f-2462b9e1abb6",
   "metadata": {},
   "outputs": [
    {
     "data": {
      "text/plain": [
       "((600, 800), (600, 800))"
      ]
     },
     "execution_count": 17,
     "metadata": {},
     "output_type": "execute_result"
    }
   ],
   "source": [
    "#SETTING IMAGE DIMENSIONS AND SEGMENTS\n",
    "marker_image = np.zeros(road.shape[:2], dtype = np.int32)\n",
    "segments = np.zeros(road.shape[:2], dtype = np.uint8)\n",
    "marker_image.shape, segments.shape"
   ]
  },
  {
   "cell_type": "code",
   "execution_count": 18,
   "id": "7fe503f6-d07e-4fd7-aa40-efe93913b6e0",
   "metadata": {},
   "outputs": [
    {
     "data": {
      "image/png": "[encoded data removed]",
      "text/plain": [
       "<Figure size 640x480 with 1 Axes>"
      ]
     },
     "metadata": {},
     "output_type": "display_data"
    }
   ],
   "source": [
    "plt.imshow(marker_image, cmap='gray')\n",
    "plt.show()"
   ]
  },
  {
   "cell_type": "code",
   "execution_count": 19,
   "id": "4a8d39e5-64eb-4337-b4f6-4fbd8ebdb472",
   "metadata": {},
   "outputs": [
    {
     "data": {
      "image/png": "[encoded data removed]",
      "text/plain": [
       "<Figure size 640x480 with 1 Axes>"
      ]
     },
     "metadata": {},
     "output_type": "display_data"
    }
   ],
   "source": [
    "plt.imshow(segments, cmap='gray')\n",
    "plt.show()"
   ]
  },
  {
   "cell_type": "code",
   "execution_count": 20,
   "id": "47b6aa8a-a71a-416f-9097-ae4c219005be",
   "metadata": {},
   "outputs": [],
   "source": [
    "# CREATE THE COLOR FOR THE MARKERS\n",
    "from matplotlib import cm\n",
    "def create_rgb(i):\n",
    "    return tuple(np.array(cm.tab10(i)[:3])*255)"
   ]
  },
  {
   "cell_type": "code",
   "execution_count": 21,
   "id": "320d5801-5cbf-4984-887e-ee4951b35890",
   "metadata": {},
   "outputs": [
    {
     "data": {
      "text/plain": [
       "[(np.float64(31.0), np.float64(119.0), np.float64(180.0)),\n",
       " (np.float64(255.0), np.float64(127.0), np.float64(14.0)),\n",
       " (np.float64(44.0), np.float64(160.0), np.float64(44.0)),\n",
       " (np.float64(214.0), np.float64(39.0), np.float64(40.0)),\n",
       " (np.float64(148.0), np.float64(103.0), np.float64(189.0)),\n",
       " (np.float64(140.0), np.float64(86.0), np.float64(75.0)),\n",
       " (np.float64(227.0), np.float64(119.0), np.float64(194.0)),\n",
       " (np.float64(127.0), np.float64(127.0), np.float64(127.0)),\n",
       " (np.float64(188.0), np.float64(189.0), np.float64(34.0)),\n",
       " (np.float64(23.0), np.float64(190.0), np.float64(207.0))]"
      ]
     },
     "execution_count": 21,
     "metadata": {},
     "output_type": "execute_result"
    }
   ],
   "source": [
    "colors = []\n",
    "for i in range(10):\n",
    "    colors.append(create_rgb(i))\n",
    "colors"
   ]
  },
  {
   "cell_type": "markdown",
   "id": "cab11904-bbac-4e90-8749-704cb11f8433",
   "metadata": {},
   "source": [
    "# SETTING THE CALLBACK"
   ]
  },
  {
   "cell_type": "code",
   "execution_count": 22,
   "id": "46cbb5ff-aa7a-45cd-9319-906b4ba9b5b2",
   "metadata": {},
   "outputs": [],
   "source": [
    "# CREATING THE GLOBAL VARIABLES\n",
    "current_marker = 1\n",
    "#MARKERS UPDATED BY THE WATERSHED ALGORITHM\n",
    "marker_updated = False\n",
    "n_markers = 10"
   ]
  },
  {
   "cell_type": "code",
   "execution_count": 23,
   "id": "2caa0074-062f-4ce1-b5a8-0d1b5762ee16",
   "metadata": {},
   "outputs": [],
   "source": [
    "#CALLBACK FUNCTION\n",
    "def mouse_callback(event, x, y, flags, params):\n",
    "    global marker_updated\n",
    "    if event == cv2.EVENT_LBUTTONDOWN:\n",
    "        cv2.circle(marker_image, (x,y), 10, (current_marker), -1)\n",
    "        cv2.circle(road_copy, (x,y), 10,colors[current_marker], -1)\n",
    "        marker_updated = True"
   ]
  },
  {
   "cell_type": "code",
   "execution_count": null,
   "id": "15fbabb0-b131-481e-983f-0f0d19c8b13f",
   "metadata": {},
   "outputs": [],
   "source": [
    "cv2.namedWindow('Road Image')\n",
    "cv2.setMouseCallback('Road Image', mouse_callback)\n",
    "\n",
    "while True:\n",
    "    \n",
    "    # SHow the 2 windows\n",
    "    cv2.imshow('WaterShed Segments', segments)\n",
    "    cv2.imshow('Road Image', road_copy)\n",
    "        \n",
    "        \n",
    "    # Close everything if Esc is pressed\n",
    "    k = cv2.waitKey(1)\n",
    "\n",
    "    if k == 27:\n",
    "        break\n",
    "        \n",
    "    # Clear all colors and start over if 'c' is pressed\n",
    "    elif k == ord('c'):\n",
    "        road_copy = road.copy()\n",
    "        marker_image = np.zeros(road.shape[0:2], dtype=np.int32)\n",
    "        segments = np.zeros(road.shape,dtype=np.uint8)\n",
    "        \n",
    "    # If a number 0-9 is chosen index the color\n",
    "    elif k > 0 and chr(k).isdigit():\n",
    "        # chr converts to printable digit\n",
    "        \n",
    "        current_marker  = int(chr(k))\n",
    "        \n",
    "        # CODE TO CHECK INCASE USER IS CARELESS\n",
    "#         n = int(chr(k))\n",
    "#         if 1 <= n <= n_markers:\n",
    "#             current_marker = n\n",
    "    \n",
    "    # If we clicked somewhere, call the watershed algorithm on our chosen markers\n",
    "    if marker_updated:\n",
    "        \n",
    "        marker_image_copy = marker_image.copy()\n",
    "        cv2.watershed(road, marker_image_copy)\n",
    "        \n",
    "        segments = np.zeros(road.shape,dtype=np.uint8)\n",
    "        \n",
    "        for color_ind in range(n_markers):\n",
    "            segments[marker_image_copy == (color_ind)] = colors[color_ind]\n",
    "        \n",
    "        marker_updated = False\n",
    "        \n",
    "cv2.destroyAllWindows()"
   ]
  },
  {
   "cell_type": "code",
   "execution_count": null,
   "id": "dc8f86a0-b37b-4020-80f2-4f3871879e7a",
   "metadata": {},
   "outputs": [],
   "source": [
    "#WHILE TRUE\n",
    "cv2.namedWindow('Road Image')\n",
    "cv2.setMouseCallback('Road Image', mouse_callback)\n",
    "while True:\n",
    "    cv2.imshow('Watershed Segment', segments)\n",
    "    cv2.imshow('Road Image', road_copy)\n",
    "    k = cv2.waitKey(1)\n",
    "    if k == 27:\n",
    "        break\n",
    "    elif k == ord('c'):\n",
    "        road_copy = road.copy()\n",
    "        marker_image = np.zeros(road.shape[:2], dtype = np.int32)\n",
    "        segements = np.zeros(road.shape, dtype = np.uint8)\n",
    "    elif k > 0 and chr(k).isdigit():\n",
    "        current_marker = int(chr(k))\n",
    "    if marker_updated:\n",
    "        marker_image_copy = marker_image.copy()\n",
    "        cv2.watershed(road, marker_image_copy)\n",
    "        segements = np.zeros(road.shape, dtype = np.uint8)\n",
    "        for color_ind in range(n_markers):\n",
    "            segments[marker_image_copy == (color_ind)] = colors[color_ind]\n",
    "        marker_updated = False\n",
    "cv2.destroyAllWindows()"
   ]
  },
  {
   "cell_type": "code",
   "execution_count": null,
   "id": "66399ec0-3fc4-477d-8f0c-40c36a611380",
   "metadata": {},
   "outputs": [],
   "source": []
  },
  {
   "cell_type": "code",
   "execution_count": null,
   "id": "943a29e9-f30b-439a-ae5a-86ec048b94d2",
   "metadata": {},
   "outputs": [],
   "source": []
  }
 ],
 "metadata": {
  "kernelspec": {
   "display_name": "Python 3 (ipykernel)",
   "language": "python",
   "name": "python3"
  },
  "language_info": {
   "codemirror_mode": {
    "name": "ipython",
    "version": 3
   },
   "file_extension": ".py",
   "mimetype": "text/x-python",
   "name": "python",
   "nbconvert_exporter": "python",
   "pygments_lexer": "ipython3",
   "version": "3.13.2"
  }
 },
 "nbformat": 4,
 "nbformat_minor": 5
}
