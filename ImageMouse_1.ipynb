{
 "cells": [
  {
   "cell_type": "code",
   "execution_count": 2,
   "metadata": {},
   "outputs": [],
   "source": [
    "import cv2\n",
    "import numpy as np\n",
    "\n",
    "\n",
    "############################################################################\n",
    "###########################FUNCTION ########################################\n",
    "def draw_circle(event, x, y, flag, param):\n",
    "    if event == cv2.EVENT_LBUTTONDOWN:\n",
    "        cv2.circle(img,(x,y),100,(0,255,0),-1)\n",
    "    elif event == cv2.EVENT_RBUTTONDOWN:\n",
    "        cv2.circle(img,(x,y), 100, (255,0,0), -1)\n",
    "############################################################################\n",
    "\n",
    "cv2.namedWindow(winname='Images')\n",
    "cv2.setMouseCallback('Images', draw_circle)\n",
    "###########################################################################\n",
    "###########################IMAGE WITH CV2 #################################\n",
    "img = np.zeros(shape=(512, 512,3), dtype=np.int8)\n",
    "while True:\n",
    "    cv2.imshow('Images',img)\n",
    "    if cv2.waitKey(20) & 0xFF == 27:\n",
    "        break   \n",
    "cv2.destroyAllWindows()\n",
    "###########################################################################"
   ]
  },
  {
   "cell_type": "code",
   "execution_count": null,
   "metadata": {},
   "outputs": [],
   "source": []
  }
 ],
 "metadata": {
  "kernelspec": {
   "display_name": "Python 3",
   "language": "python",
   "name": "python3"
  },
  "language_info": {
   "codemirror_mode": {
    "name": "ipython",
    "version": 3
   },
   "file_extension": ".py",
   "mimetype": "text/x-python",
   "name": "python",
   "nbconvert_exporter": "python",
   "pygments_lexer": "ipython3",
   "version": "3.6.6"
  }
 },
 "nbformat": 4,
 "nbformat_minor": 2
}
