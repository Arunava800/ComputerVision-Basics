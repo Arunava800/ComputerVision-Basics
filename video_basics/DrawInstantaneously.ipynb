{
 "cells": [
  {
   "cell_type": "code",
   "execution_count": 3,
   "id": "fc7b51f1-daa1-4582-8eb1-6b934f796635",
   "metadata": {},
   "outputs": [
    {
     "ename": "KeyboardInterrupt",
     "evalue": "",
     "output_type": "error",
     "traceback": [
      "\u001b[31m---------------------------------------------------------------------------\u001b[39m",
      "\u001b[31mKeyboardInterrupt\u001b[39m                         Traceback (most recent call last)",
      "\u001b[36mCell\u001b[39m\u001b[36m \u001b[39m\u001b[32mIn[3]\u001b[39m\u001b[32m, line 42\u001b[39m\n\u001b[32m     39\u001b[39m \u001b[38;5;28;01mif\u001b[39;00m topLeft_clicked \u001b[38;5;129;01mand\u001b[39;00m bottomRight_clicked:\n\u001b[32m     40\u001b[39m     cv2.rectangle(frame, pt1, pt2, color=(\u001b[32m0\u001b[39m,\u001b[32m0\u001b[39m,\u001b[32m255\u001b[39m), thickness = \u001b[32m3\u001b[39m)\n\u001b[32m---> \u001b[39m\u001b[32m42\u001b[39m cv2.imshow(\u001b[33m'\u001b[39m\u001b[33mTest\u001b[39m\u001b[33m'\u001b[39m,frame)\n\u001b[32m     43\u001b[39m \u001b[38;5;28;01mif\u001b[39;00m cv2.waitKey(\u001b[32m1\u001b[39m) & \u001b[32m0xFF\u001b[39m == \u001b[38;5;28mord\u001b[39m(\u001b[33m'\u001b[39m\u001b[33mq\u001b[39m\u001b[33m'\u001b[39m):\n\u001b[32m     44\u001b[39m     \u001b[38;5;28;01mbreak\u001b[39;00m\n",
      "\u001b[31mKeyboardInterrupt\u001b[39m: "
     ]
    }
   ],
   "source": [
    "import cv2\n",
    "\n",
    "\n",
    "\n",
    "# CALL BACK FUNCTION\n",
    "def draw_rectangle(event, x, y, flags, param):\n",
    "    global pt1, pt2, topLeft_clicked, bottomRight_clicked\n",
    "    if event == cv2.EVENT_LBUTTONDOWN:\n",
    "\n",
    "        #RESET THE RECTANGLE(IT CHECKS IF THE RECTANGLE IS THERE)\n",
    "        if topLeft_clicked and bottomRight_clicked:\n",
    "            pt1, pt2, topLeft_clicked, bottomRight_clicked = (0,0), (0,0), False, False\n",
    "        if topLeft_clicked == False:\n",
    "            pt1 = (x,y)\n",
    "            topLeft_clicked = True\n",
    "        elif bottomRight_clicked == False:\n",
    "            pt2 = (x,y)\n",
    "            bottomRight_clicked = True\n",
    "        \n",
    "            \n",
    "            \n",
    "# GLOBAL VARIABLES\n",
    "pt1 = (0,0)\n",
    "pt2 = (0,0)\n",
    "topLeft_clicked = False\n",
    "bottomRight_clicked = False\n",
    "\n",
    "#CONNECT TO THE CALLBACK\n",
    "cap = cv2.VideoCapture(0)\n",
    "cv2.namedWindow('Test')\n",
    "cv2.setMouseCallback('Test', draw_rectangle)\n",
    "\n",
    "while True: \n",
    "    ret, frame = cap.read()\n",
    "\n",
    "    #DRAWING ON THE FRAME BASED ON THE GLOBAL VARIABLES\n",
    "    if topLeft_clicked:\n",
    "        cv2.circle(frame, center= pt1, radius=5, color=(0,0,255), thickness = -1)\n",
    "    if topLeft_clicked and bottomRight_clicked:\n",
    "        cv2.rectangle(frame, pt1, pt2, color=(0,0,255), thickness = 3)\n",
    "\n",
    "    cv2.imshow('Test',frame)\n",
    "    if cv2.waitKey(1) & 0xFF == ord('q'):\n",
    "        break\n",
    "cv2.release()\n",
    "cv2.destroyAllWindows()\n",
    "    "
   ]
  },
  {
   "cell_type": "code",
   "execution_count": null,
   "id": "dfc44303-f763-4fa3-aa31-3c5cb3845069",
   "metadata": {},
   "outputs": [],
   "source": []
  }
 ],
 "metadata": {
  "kernelspec": {
   "display_name": "Python 3 (ipykernel)",
   "language": "python",
   "name": "python3"
  },
  "language_info": {
   "codemirror_mode": {
    "name": "ipython",
    "version": 3
   },
   "file_extension": ".py",
   "mimetype": "text/x-python",
   "name": "python",
   "nbconvert_exporter": "python",
   "pygments_lexer": "ipython3",
   "version": "3.13.2"
  }
 },
 "nbformat": 4,
 "nbformat_minor": 5
}
